{
 "cells": [
  {
   "cell_type": "code",
   "execution_count": 1,
   "metadata": {},
   "outputs": [],
   "source": [
    "import numpy as np\n",
    "import librosa\n",
    "import os\n",
    "from tqdm.notebook import tqdm\n",
    "import csv\n",
    "import json"
   ]
  },
  {
   "cell_type": "code",
   "execution_count": 2,
   "metadata": {},
   "outputs": [],
   "source": [
    "def PCEN(dataset):\n",
    "    \"\"\"Apply PCEN to spectrograms in dataset.\n",
    "    \n",
    "    # Arguments\n",
    "        dataset: dataset in format (id, spectro, label).\n",
    "    \n",
    "    # Returns\n",
    "        dataset in same format but spectrograms have had PCEN applied.\n",
    "    \"\"\"\n",
    "    x = dataset[:, 1]\n",
    "    for i in range(len(x)):\n",
    "        x[i] = librosa.pcen(x[i] * (2**31))\n",
    "    dataset[:, 1] = x\n",
    "    return dataset"
   ]
  },
  {
   "cell_type": "code",
   "execution_count": null,
   "metadata": {},
   "outputs": [],
   "source": [
    "data_processed = '/home/ines/Dropbox/QMUL/PHD/manx_shearwaters/data/data_processed/'\n",
    "\n",
    "raw_annotations_path ='/home/ines/Dropbox/QMUL/PHD/manx_shearwaters/data/Annotations/'\n",
    "\n",
    "labels_dict = {1:'male_in', 2:'female_in', 3:'chick', 4:'male_bout', 5:'female_bout', 6:'flapping', 7: 'male_grunt', 8:'female_grunt', 9:'unk_grunt' }"
   ]
  },
  {
   "cell_type": "code",
   "execution_count": null,
   "metadata": {},
   "outputs": [],
   "source": [
    "dataset = np.load(data_processed+'dataset_25_03.npy', allow_pickle=True)"
   ]
  },
  {
   "cell_type": "code",
   "execution_count": 2,
   "metadata": {},
   "outputs": [],
   "source": [
    "# filter to include only clips with a hyena call in\n",
    "h352a_calls = np.asarray([e for e in h352a if 1 in e[2]])\n",
    "h354a_calls = np.asarray([e for e in h354a if 1 in e[2]])\n",
    "h360a_calls = np.asarray([e for e in h360a if 1 in e[2]])\n",
    "h366a_calls = np.asarray([e for e in h366a if 1 in e[2]])"
   ]
  },
  {
   "cell_type": "code",
   "execution_count": null,
   "metadata": {},
   "outputs": [],
   "source": [
    "# 352b as test set with negs\n",
    "test = h352b\n",
    "np.random.shuffle(test)"
   ]
  },
  {
   "cell_type": "code",
   "execution_count": 23,
   "metadata": {},
   "outputs": [],
   "source": [
    "# other hyenas as train, validation\n",
    "train_val = np.vstack((h352a_calls, h354a_calls))\n",
    "train_val = np.vstack((train_val, h360a_calls))\n",
    "train_val = np.vstack((train_val, h366a_calls))"
   ]
  },
  {
   "cell_type": "code",
   "execution_count": null,
   "metadata": {},
   "outputs": [],
   "source": [
    "# create train and val sets\n",
    "np.random.shuffle(train_val)\n",
    "val_split = int(len(train_val) * 0.1)\n",
    "val = train_val[:val_split]\n",
    "train = train_val[val_split:]"
   ]
  },
  {
   "cell_type": "code",
   "execution_count": 50,
   "metadata": {},
   "outputs": [],
   "source": [
    "# save train, val, test sets\n",
    "np.save('hyena_test', test)\n",
    "np.save('hyena_val', val)\n",
    "np.save('hyena_train', train)"
   ]
  },
  {
   "cell_type": "code",
   "execution_count": null,
   "metadata": {},
   "outputs": [],
   "source": [
    "# apply PCEN\n",
    "test_PCEN = PCEN(test)\n",
    "val_PCEN = PCEN(val)\n",
    "train_PCEN = PCEN(train)"
   ]
  },
  {
   "cell_type": "code",
   "execution_count": null,
   "metadata": {},
   "outputs": [],
   "source": [
    "# save PCEN train, val, test sets\n",
    "np.save('hyena_test_PCEN', test_PCEN)\n",
    "np.save('hyena_val_PCEN', val_PCEN)\n",
    "np.save('hyena_train_PCEN', train_PCEN)"
   ]
  }
 ],
 "metadata": {
  "kernelspec": {
   "display_name": "Python 3",
   "language": "python",
   "name": "python3"
  },
  "language_info": {
   "codemirror_mode": {
    "name": "ipython",
    "version": 3
   },
   "file_extension": ".py",
   "mimetype": "text/x-python",
   "name": "python",
   "nbconvert_exporter": "python",
   "pygments_lexer": "ipython3",
   "version": "3.6.9"
  }
 },
 "nbformat": 4,
 "nbformat_minor": 2
}
