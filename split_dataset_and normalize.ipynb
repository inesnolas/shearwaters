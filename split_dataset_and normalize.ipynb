{
 "cells": [
  {
   "cell_type": "code",
   "execution_count": 1,
   "metadata": {},
   "outputs": [],
   "source": [
    "import numpy as np\n",
    "import librosa\n",
    "import os\n",
    "from tqdm.notebook import tqdm\n",
    "import csv\n",
    "import json"
   ]
  },
  {
   "cell_type": "code",
   "execution_count": 2,
   "metadata": {},
   "outputs": [],
   "source": [
    "def PCEN(dataset):\n",
    "    \"\"\"Apply PCEN to spectrograms in dataset.\n",
    "    \n",
    "    # Arguments\n",
    "        dataset: dataset in format (id, spectro, label).\n",
    "    \n",
    "    # Returns\n",
    "        dataset in same format but spectrograms have had PCEN applied.\n",
    "    \"\"\"\n",
    "    x = dataset[:, 1]\n",
    "    for i in range(len(x)):\n",
    "        x[i] = librosa.pcen(x[i] * (2**31))\n",
    "    dataset[:, 1] = x\n",
    "    return dataset"
   ]
  },
  {
   "cell_type": "code",
   "execution_count": 6,
   "metadata": {},
   "outputs": [],
   "source": [
    "data_processed = '/home/ines/Dropbox/QMUL/PHD/manx_shearwaters/adult_vs_chicks/'\n",
    "\n",
    "# raw_annotations_path ='/home/ines/Dropbox/QMUL/PHD/manx_shearwaters/data/Annotations/'\n",
    "with open('/home/ines/Dropbox/QMUL/PHD/manx_shearwaters/adult_vs_chicks/labels_key.json', \"r\") as read_file:\n",
    "    labels_dict = json.load(read_file)\n",
    "# labels_dict = {1:'male_in', 2:'female_in', 3:'chick', 4:'male_bout', 5:'female_bout', 6:'flapping', 7: 'male_grunt', 8:'female_grunt', 9:'unk_grunt' }\n",
    "\n"
   ]
  },
  {
   "cell_type": "code",
   "execution_count": 10,
   "metadata": {},
   "outputs": [],
   "source": [
    "dataset = np.load(data_processed+'dataset_adult_bouts_grunts_chicks.npy', allow_pickle=True)"
   ]
  },
  {
   "cell_type": "code",
   "execution_count": 11,
   "metadata": {},
   "outputs": [
    {
     "data": {
      "text/plain": [
       "array({0: 'male_in', 1: 'female_in', 2: 'chick', 3: 'male_bout', 4: 'female_bout', 5: 'flapping', 6: 'male_grunt', 7: 'female_grunt', 8: 'unk_grunt', 9: 'adult_bout'},\n",
       "      dtype=object)"
      ]
     },
     "execution_count": 11,
     "metadata": {},
     "output_type": "execute_result"
    }
   ],
   "source": [
    "dataset"
   ]
  },
  {
   "cell_type": "code",
   "execution_count": 8,
   "metadata": {},
   "outputs": [
    {
     "ename": "TypeError",
     "evalue": "iteration over a 0-d array",
     "output_type": "error",
     "traceback": [
      "\u001b[0;31m---------------------------------------------------------------------------\u001b[0m",
      "\u001b[0;31mTypeError\u001b[0m                                 Traceback (most recent call last)",
      "\u001b[0;32m<ipython-input-8-b0bc10c31ca6>\u001b[0m in \u001b[0;36m<module>\u001b[0;34m\u001b[0m\n\u001b[1;32m      1\u001b[0m \u001b[0;31m# remove silences: filter to include only clips calls in\u001b[0m\u001b[0;34m\u001b[0m\u001b[0;34m\u001b[0m\u001b[0;34m\u001b[0m\u001b[0m\n\u001b[0;32m----> 2\u001b[0;31m \u001b[0mdataset_positivesonly\u001b[0m \u001b[0;34m=\u001b[0m \u001b[0mnp\u001b[0m\u001b[0;34m.\u001b[0m\u001b[0masarray\u001b[0m\u001b[0;34m(\u001b[0m\u001b[0;34m[\u001b[0m\u001b[0me\u001b[0m \u001b[0;32mfor\u001b[0m \u001b[0me\u001b[0m \u001b[0;32min\u001b[0m \u001b[0mdataset\u001b[0m \u001b[0;32mif\u001b[0m \u001b[0;36m1\u001b[0m \u001b[0;32min\u001b[0m \u001b[0me\u001b[0m\u001b[0;34m[\u001b[0m\u001b[0;36m2\u001b[0m\u001b[0;34m]\u001b[0m\u001b[0;34m]\u001b[0m\u001b[0;34m)\u001b[0m\u001b[0;34m\u001b[0m\u001b[0;34m\u001b[0m\u001b[0m\n\u001b[0m",
      "\u001b[0;31mTypeError\u001b[0m: iteration over a 0-d array"
     ]
    }
   ],
   "source": [
    "# remove silences: filter to include only clips calls in\n",
    "dataset_positivesonly = np.asarray([e for e in dataset if 1 in e[2]])\n"
   ]
  },
  {
   "cell_type": "code",
   "execution_count": null,
   "metadata": {},
   "outputs": [],
   "source": [
    "# 352b as test set with negs\n",
    "test = h352b\n",
    "np.random.shuffle(test)"
   ]
  },
  {
   "cell_type": "code",
   "execution_count": 23,
   "metadata": {},
   "outputs": [],
   "source": [
    "# other hyenas as train, validation\n",
    "train_val = np.vstack((h352a_calls, h354a_calls))\n",
    "train_val = np.vstack((train_val, h360a_calls))\n",
    "train_val = np.vstack((train_val, h366a_calls))"
   ]
  },
  {
   "cell_type": "code",
   "execution_count": null,
   "metadata": {},
   "outputs": [],
   "source": [
    "# create train and val sets\n",
    "np.random.shuffle(train_val)\n",
    "val_split = int(len(train_val) * 0.1)\n",
    "val = train_val[:val_split]\n",
    "train = train_val[val_split:]"
   ]
  },
  {
   "cell_type": "code",
   "execution_count": 50,
   "metadata": {},
   "outputs": [],
   "source": [
    "# save train, val, test sets\n",
    "np.save('hyena_test', test)\n",
    "np.save('hyena_val', val)\n",
    "np.save('hyena_train', train)"
   ]
  },
  {
   "cell_type": "code",
   "execution_count": null,
   "metadata": {},
   "outputs": [],
   "source": [
    "# apply PCEN\n",
    "test_PCEN = PCEN(test)\n",
    "val_PCEN = PCEN(val)\n",
    "train_PCEN = PCEN(train)"
   ]
  },
  {
   "cell_type": "code",
   "execution_count": null,
   "metadata": {},
   "outputs": [],
   "source": [
    "# save PCEN train, val, test sets\n",
    "np.save('hyena_test_PCEN', test_PCEN)\n",
    "np.save('hyena_val_PCEN', val_PCEN)\n",
    "np.save('hyena_train_PCEN', train_PCEN)"
   ]
  }
 ],
 "metadata": {
  "kernelspec": {
   "display_name": "Python 3",
   "language": "python",
   "name": "python3"
  },
  "language_info": {
   "codemirror_mode": {
    "name": "ipython",
    "version": 3
   },
   "file_extension": ".py",
   "mimetype": "text/x-python",
   "name": "python",
   "nbconvert_exporter": "python",
   "pygments_lexer": "ipython3",
   "version": "3.6.9"
  }
 },
 "nbformat": 4,
 "nbformat_minor": 2
}
