{
 "cells": [
  {
   "cell_type": "markdown",
   "metadata": {},
   "source": [
    "Create regions file from segment predictions matrices:\n",
    "    \n",
    "   #### predictions are saved as:\n",
    "    \n",
    "        audio_id_segm_start_sec_to_end_sec, array shape(n_target classes, number of frames (6 sec segm = 259 timeframes))\n",
    "        \n",
    "        \n",
    "   #### region file structure:\n",
    "    \n",
    "    onset(sec), class_value, duration(sec)\n",
    "        \n",
    "\n",
    "for each predictions file :\n",
    "\n",
    "(NEAT would be to make this as a parallel process that alwys looks into a folder and starts this as the files become available check this: https://askubuntu.com/questions/781799/execution-permission-to-all-files-created-under-a-specific-directory-by-default/781909#781909)\n",
    "        \n",
    "        for each row:\n",
    "            check if any 1 (any positive predictions) and what row it apears in!\n",
    "               Get start_segment\n",
    "               for each row identified above:\n",
    "                   onset0 = start_segment + frame_index 1st 1 transformed to sec\n",
    "                   class_value = row\n",
    "                   duration = number frames of continuous 1s, transformed into sec.\n",
    "                   \n",
    "                   There maybe other events!\n",
    "                       identify plasces where seq of 1s started again. . . . .\n",
    "                  "
   ]
  },
  {
   "cell_type": "code",
   "execution_count": null,
   "metadata": {},
   "outputs": [],
   "source": [
    "predictions_files = []\n",
    "\n",
    "for pfile in predictions_files:\n",
    "    regions_csv = []\n",
    "    \n",
    "    #load pfile into np array\n",
    "    predic_array = np.load(pfile, allow_pickle=True)  #\n",
    "        for row in \n",
    "    \n",
    "    "
   ]
  }
 ],
 "metadata": {
  "kernelspec": {
   "display_name": "Python 3",
   "language": "python",
   "name": "python3"
  },
  "language_info": {
   "codemirror_mode": {
    "name": "ipython",
    "version": 3
   },
   "file_extension": ".py",
   "mimetype": "text/x-python",
   "name": "python",
   "nbconvert_exporter": "python",
   "pygments_lexer": "ipython3",
   "version": "3.6.9"
  }
 },
 "nbformat": 4,
 "nbformat_minor": 4
}
