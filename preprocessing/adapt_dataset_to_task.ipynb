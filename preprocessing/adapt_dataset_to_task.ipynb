{
 "cells": [
  {
   "cell_type": "markdown",
   "metadata": {},
   "source": [
    "## Code structure:   \n",
    "i want to adappt and create a subdataset for different tasks,\n",
    "    this comprises: joining labels together, \n",
    "    filtering out some classes\n",
    "    or selecting others only. \n",
    "    \n",
    "    \n",
    "1 - load dataset:\n",
    "    structure is:\n",
    "        segmentID, spectrogram, matrixlabel (9*259) each row corresponds to the following classes\n",
    "                    \n",
    "        1- Male inhale\n",
    "        2- Female inhale\n",
    "        3- Chick\n",
    "        4- Male bout\n",
    "        5- Female bout\n",
    "        6- Flapping\n",
    "        7- Male grunt/noise\n",
    "        8- Female grunt/noise\n",
    "        9- Unknown grunt/noise\n",
    "\n",
    "2 - define manipulation to do\n",
    "    \n",
    "    \n",
    "    \n"
   ]
  },
  {
   "cell_type": "code",
   "execution_count": 1,
   "metadata": {},
   "outputs": [],
   "source": [
    "import pandas as pd\n",
    "import numpy as np\n",
    "import os\n",
    "import librosa\n",
    "from tqdm.notebook import tqdm\n",
    "import csv\n",
    "import json"
   ]
  },
  {
   "cell_type": "code",
   "execution_count": 2,
   "metadata": {},
   "outputs": [],
   "source": [
    "def remove_label(dataset,labels_dict, new_labels_dict  ):\n",
    "    '''remove classes from label_matrix '''\n",
    "    inve_new_label_dict = {v: k for k, v in new_labels_dict.items()}\n",
    "    inv_labels_dic = {v: k for k, v in labels_dict.items()} \n",
    "    \n",
    "    \n",
    "    new_dataset = []\n",
    "    for segm_id, spectro, label_matrix in dataset:\n",
    "        new_label_matrix = np.zeros((len(new_labels_dict.keys()), 259))\n",
    "        for lb, new_indx  in inve_new_label_dict.items():\n",
    "            new_label_matrix[new_indx,:] = label_matrix[inv_labels_dic[lb]]\n",
    "        \n",
    "        new_dataset.append([segm_id, spectro, new_label_matrix])\n",
    "\n",
    "    new_dataset = np.asarray(new_dataset)\n",
    "    return new_dataset, new_labels_dict\n",
    "\n",
    "def join_labels(labels_2_join, dataset, labels_dict, new_labels_dict, new_class_label):\n",
    "    '''join information in different rows,   and create aditional row for joint labels\n",
    "    '''\n",
    "        \n",
    "    inve_new_label_dict = {v: k for k, v in new_labels_dict.items()}\n",
    "    inv_labels_dic = {v: k for k, v in labels_dict.items()}\n",
    "    labels_2_join_indx = []\n",
    "    for label in labels_2_join:\n",
    "        labels_2_join_indx.append(inv_labels_dic[label])\n",
    "        # based on labels_dict!\n",
    "\n",
    "    new_dataset = []\n",
    "\n",
    "\n",
    "    for segm_id, spectro, label_matrix in dataset:\n",
    "        \n",
    "        new_label_matrix = np.zeros((len(new_labels_dict.keys()), 259))\n",
    "        new_label_matrix[0:label_matrix.shape[0], :] = label_matrix\n",
    "\n",
    "        joined_labels_row = np.sum(label_matrix[labels_2_join_indx, :],0)\n",
    "        #just normalizing to 1s and zeros...\n",
    "        joined_labels_row = np.divide(joined_labels_row, joined_labels_row, out=np.zeros_like(joined_labels_row), where=joined_labels_row!=0)\n",
    "        \n",
    "        indx = inve_new_label_dict[new_class_label]\n",
    "        new_label_matrix[int(indx),:] = joined_labels_row\n",
    "\n",
    "        new_dataset.append([segm_id, spectro, new_label_matrix])\n",
    "\n",
    "    new_dataset = np.asarray(new_dataset)\n",
    "    \n",
    "    # We should remove the joined collumns before returning,\n",
    "    return new_dataset, new_labels_dict\n",
    "\n",
    "\n",
    "def remove_examples_based_labels(dataset, neg_classes_indexes, labels_dict, new_labels_dict, mode='keepPosOnly' ):\n",
    "    '''keepPosOnly: keep only examples that have ones in the given rows (positive_labels) \n",
    "    (remove everything else  included examles with only zeros!)\n",
    "        \n",
    "        removeNeg: remove all examples that have ones in the non target classes (this results in positives + silences)\n",
    "        \n",
    "        keepSilencesOnly: select examples that have zeros through the whole matrix! \n",
    "    (becareful between the distinction of negs and silences depends on the dataset given!)\n",
    "    \n",
    "    '''        \n",
    "  \n",
    "    \n",
    "    if mode == 'removeNeg':\n",
    "        examples_2_remove = []\n",
    "        \n",
    "        for i, example in enumerate(dataset):\n",
    "            label_matrix = example[2]\n",
    "            if 1 in label_matrix[neg_classes_indexes, :] :\n",
    "                examples_2_remove.append(i)\n",
    "        \n",
    "        new_dataset = np.delete(dataset, examples_2_remove, 0)\n",
    "        new_dataset, new_labels_dict =  remove_label(new_dataset, labels_dict, new_labels_dict )\n",
    "      \n",
    "    return np.asarray(new_dataset), new_labels_dict\n",
    "    \n",
    "\n"
   ]
  },
  {
   "cell_type": "code",
   "execution_count": 3,
   "metadata": {},
   "outputs": [],
   "source": [
    "# data_processed = '/home/ines/Dropbox/QMUL/PHD/manx_shearwaters/data/data_processed/'\n",
    "data_processed = '/import/c4dm-datasets/manxShearwaters/'\n",
    "\n",
    "labels_dict = {0:'male_in', 1:'female_in', 2:'chick', 3:'male_bout', 4:'female_bout', 5:'flapping', 6: 'male_grunt', 7:'female_grunt', 8:'unk_grunt' }"
   ]
  },
  {
   "cell_type": "code",
   "execution_count": 4,
   "metadata": {},
   "outputs": [],
   "source": [
    "dataset = np.load(data_processed+'dataset_25_03.npy', allow_pickle=True)"
   ]
  },
  {
   "cell_type": "code",
   "execution_count": 8,
   "metadata": {},
   "outputs": [],
   "source": [
    "# Adult_vs_chick_dataset:\n",
    "\n",
    "# lets create dataset with the following 3 classes: Adult_bouts, chicks and adult_grunts\n",
    "\n",
    "#0- get silences dataset\n",
    "#1 - join female_bouts and male bouts into adult_bouts_class\n",
    "# 2 - join the 3 grunt classes into adult_grunts (fem_grunt, male_grunt, unk_grunt)\n",
    "# 3 - remove all other classes\n",
    "\n",
    "# silences_dataset = select_examples_based_labels(adult_chick_dataset_joined)\n",
    "\n",
    "#1\n",
    "new_labels_dict_1 = {0:'male_in', 1:'female_in', 2:'chick', 3:'male_bout', 4:'female_bout', 5:'flapping', 6: 'male_grunt', 7:'female_grunt', 8:'unk_grunt', 9:'adult_bout' }\n",
    "new_class_label =  'adult_bout'\n",
    "dataset, new_labels_dict_1= join_labels(['male_bout', 'female_bout'], dataset, labels_dict, new_labels_dict_1, new_class_label)\n",
    "\n",
    "\n",
    "#2\n",
    "new_labels_dict_2 = {0:'male_in', 1:'female_in', 2:'chick', 3:'male_bout', 4:'female_bout', 5:'flapping', 6: 'male_grunt', 7:'female_grunt', 8:'unk_grunt', 9:'adult_bout' , 10: 'adult_grunt'}\n",
    "new_class_label =  'adult_grunt'\n",
    "dataset, new_labels_dict_2= join_labels(['male_grunt', 'female_grunt', 'unk_grunt'], dataset, new_labels_dict_1, new_labels_dict_2, new_class_label)\n",
    "\n",
    "\n",
    "#3\n",
    "new_labels_dict_3 = {0:'adult_grunt', 1:'adult_bout', 2:'chick', }\n",
    "dataset, new_labels_dict_3= remove_label( dataset,new_labels_dict_2, new_labels_dict_3)\n",
    "\n",
    "\n",
    "#this data contains non marked negatives and silents!!!\n",
    "\n",
    "#if we want exaamples of silences as well  we need to remove the negatives vefore step 3!\n",
    "\n",
    "\n",
    "# adult_chick_dataset_1, new_labels_dict = join_labels([0,1], dataset, labels_dict)\n",
    "# # this will have examples of adults chicks, plus all other classes (negatives) and silences\n",
    "\n",
    "# adult_chick_dataset, new_labels_dict = remove_labels([2,3,4,5,6,7,8], adult_chick_dataset_joined, new_labels_dict)\n",
    "# #this will have the same examples as before but only adults and cchicks are explicitly labeled . for binary classification!\n",
    "\n",
    "# adult_chick_dataset_only_positive = select_examples_based_labels(adult_chick_dataset, [0,1])\n",
    "# #this removes all examples of non chicks or non adults plus silences\n",
    "\n",
    "\n",
    "# adult_chick_dataset_negs_all_only = select_examples_based_labels[adult_chick_dataset]\n",
    "# # this removes all the examples of adults and chicks and leaves silences and negative classes examples\n",
    "# # ??\n",
    "\n",
    "# adult_chick_dataset_silences_only = select_examples_based_labels(adult_chick_dataset_joined)\n",
    "# # this will only contain silences! (no negatives nor positives!)\n"
   ]
  },
  {
   "cell_type": "code",
   "execution_count": null,
   "metadata": {},
   "outputs": [],
   "source": [
    "# verify:\n",
    "\n",
    "# print(new_labels_dict_3)\n",
    "# print(adult_chick_dataset_3.shape)\n",
    "# print(adult_chick_dataset_3[0,-1].shape)\n",
    "\n",
    "\n",
    "# print(new_labels_dict_2)\n",
    "# print(adult_chick_dataset_2.shape)\n",
    "# print(adult_chick_dataset_2[0,-1].shape)\n",
    "\n",
    "print(new_labels_dict_3)\n",
    "print(adult_chick_dataset_1.shape)\n",
    "print(adult_chick_dataset_1[0,-1].shape)\n",
    "\n",
    "print(labels_dict)\n",
    "print(dataset.shape)\n",
    "print(dataset[0,-1].shape)\n",
    "\n",
    "for n in range(adult_chick_dataset_1.shape[0]):\n",
    "    print(sum(adult_chick_dataset_1[n,-1]))\n"
   ]
  },
  {
   "cell_type": "code",
   "execution_count": 9,
   "metadata": {},
   "outputs": [],
   "source": [
    "# np.save('/home/ines/Dropbox/QMUL/PHD/manx_shearwaters/adult_vs_chicks/dataset_adult_bouts_grunts_chicks.npy', dataset)\n",
    "np.save(data_processed+ 'dataset_adult_bouts_grunts_chicks.npy', dataset)\n",
    "\n",
    "with open(data_processed +'labels_key.json', 'w') as oputfile:\n",
    "    json.dump(new_labels_dict_3, oputfile) "
   ]
  },
  {
   "cell_type": "code",
   "execution_count": null,
   "metadata": {},
   "outputs": [],
   "source": []
  },
  {
   "cell_type": "code",
   "execution_count": null,
   "metadata": {},
   "outputs": [],
   "source": []
  },
  {
   "cell_type": "code",
   "execution_count": 5,
   "metadata": {},
   "outputs": [],
   "source": [
    "#dataset with without negatives!\n",
    "# Adults vs chicks (without examples of negative classes, in this case only flapping makes sense to remove! since the otheres are contained in the classes we want to consider.)\n",
    "\n",
    "\n",
    "#1\n",
    "new_labels_dict_1 = {0:'male_in', 1:'female_in', 2:'chick', 3:'male_bout', 4:'female_bout', 5:'flapping', 6: 'male_grunt', 7:'female_grunt', 8:'unk_grunt', 9:'adult_bout' }\n",
    "new_class_label =  'adult_bout'\n",
    "dataset, new_labels_dict_1= join_labels(['male_bout', 'female_bout'], dataset, labels_dict, new_labels_dict_1, new_class_label)\n",
    "\n",
    "\n",
    "#2\n",
    "new_labels_dict_2 = {0:'male_in', 1:'female_in', 2:'chick', 3:'male_bout', 4:'female_bout', 5:'flapping', 6: 'male_grunt', 7:'female_grunt', 8:'unk_grunt', 9:'adult_bout' , 10: 'adult_grunt'}\n",
    "new_class_label =  'adult_grunt'\n",
    "dataset, new_labels_dict_2= join_labels(['male_grunt', 'female_grunt', 'unk_grunt'], dataset, new_labels_dict_1, new_labels_dict_2, new_class_label)\n",
    "\n",
    "\n",
    "#2.5 remove examples with negatives\n",
    "new_labels_dict_3 = {0:'adult_grunt', 1:'adult_bout', 2:'chick', }\n",
    "new_dataset, labels = remove_examples_based_labels(dataset, [5], new_labels_dict_2, new_labels_dict_3, mode='removeNeg' )\n",
    "\n",
    "# #3\n",
    "# new_labels_dict_3 = {0:'adult_grunt', 1:'adult_bout', 2:'chick', }\n",
    "# dataset, new_labels_dict_3= remove_label( dataset,new_labels_dict_2, new_labels_dict_3)"
   ]
  },
  {
   "cell_type": "code",
   "execution_count": 6,
   "metadata": {},
   "outputs": [
    {
     "name": "stdout",
     "output_type": "stream",
     "text": [
      "(38049, 3)\n",
      "(37935, 3)\n",
      "{0: 'adult_grunt', 1: 'adult_bout', 2: 'chick'}\n"
     ]
    }
   ],
   "source": [
    "print(dataset.shape)\n",
    "print(new_dataset.shape)\n",
    "print(labels)"
   ]
  },
  {
   "cell_type": "code",
   "execution_count": 7,
   "metadata": {},
   "outputs": [],
   "source": [
    "# np.save('/home/ines/Dropbox/QMUL/PHD/manx_shearwaters/adult_vs_chicks/dataset_adult_bouts_grunts_chicks.npy', dataset)\n",
    "np.save(data_processed+ 'dataset_adult_bouts_grunts_chicks_no_negatives.npy', new_dataset)\n",
    "\n",
    "# with open(data_processed +'labels_key.json', 'w') as oputfile:\n",
    "#     json.dump(new_labels_dict_3, oputfile) "
   ]
  },
  {
   "cell_type": "code",
   "execution_count": null,
   "metadata": {},
   "outputs": [],
   "source": []
  },
  {
   "cell_type": "code",
   "execution_count": null,
   "metadata": {},
   "outputs": [],
   "source": []
  },
  {
   "cell_type": "code",
   "execution_count": null,
   "metadata": {},
   "outputs": [],
   "source": []
  },
  {
   "cell_type": "code",
   "execution_count": null,
   "metadata": {},
   "outputs": [],
   "source": []
  },
  {
   "cell_type": "markdown",
   "metadata": {},
   "source": [
    "### TESTS:"
   ]
  },
  {
   "cell_type": "code",
   "execution_count": null,
   "metadata": {},
   "outputs": [],
   "source": [
    "\n",
    "dataset_test = dataset[0:10, :]"
   ]
  },
  {
   "cell_type": "code",
   "execution_count": null,
   "metadata": {},
   "outputs": [],
   "source": [
    "dataset_test[:,-1].shape"
   ]
  },
  {
   "cell_type": "code",
   "execution_count": null,
   "metadata": {},
   "outputs": [],
   "source": [
    "for i in range(dataset_test[:,-1].shape[0]):\n",
    "    dataset_test[:,-1][i][1, 0:100] = 1\n",
    "    dataset_test[:,-1][i][4, 50:200] = 1\n"
   ]
  },
  {
   "cell_type": "code",
   "execution_count": null,
   "metadata": {},
   "outputs": [],
   "source": [
    "dataset_test[0,-1]"
   ]
  },
  {
   "cell_type": "code",
   "execution_count": null,
   "metadata": {},
   "outputs": [],
   "source": [
    "#Test functions!\n",
    "new_labels_dict = labels_dict\n",
    "new_labels_dict[9] = 'testing!'\n",
    "new_class_label =  'testing!'\n",
    "test_dataset, labels_dict_result = join_labels(['female_in', 'female_bout'], dataset_test, labels_dict, new_labels_dict, new_class_label)\n",
    "\n",
    "\n",
    "new_labels_dict2 = {0:'testing!', 1:'male_bout', 2: 'female_in'}\n",
    "test_dataset_removed, last_labels_dict = remove_label(test_dataset,new_labels_dict, new_labels_dict2  )"
   ]
  },
  {
   "cell_type": "code",
   "execution_count": null,
   "metadata": {},
   "outputs": [],
   "source": [
    "print(test_dataset.shape)\n",
    "print(test_dataset[0,-1].shape)\n",
    "print(dataset_test[0,-1].shape)\n",
    "print(labels_dict_result)\n",
    "# print(dataset_test[0,-1][0])\n",
    "# print(test_dataset[0,-1][0])\n",
    "\n",
    "# print(dataset_test[0,-1][4])\n",
    "print(test_dataset[0,-1][4])\n",
    "\n",
    "# print(dataset_test[0,-1][1])\n",
    "print(test_dataset[0,-1][1])\n",
    "\n",
    "print('resu;lt joining rows 1 and 4:')\n",
    "print(test_dataset[0,-1][-1])"
   ]
  },
  {
   "cell_type": "code",
   "execution_count": null,
   "metadata": {},
   "outputs": [],
   "source": [
    "print(test_dataset_removed.shape)\n",
    "print(test_dataset_removed[0,-1].shape)\n",
    "print(dataset_test[0,-1].shape)\n",
    "print(test_dataset[0,-1].shape)\n",
    "print(last_labels_dict)\n",
    "# print(dataset_test[0,-1][0])\n",
    "# print(test_dataset[0,-1][0])\n",
    "\n",
    "# print(dataset_test[0,-1][4])\n",
    "print(test_dataset_removed[0,-1])"
   ]
  },
  {
   "cell_type": "code",
   "execution_count": 10,
   "metadata": {},
   "outputs": [],
   "source": [
    "\n",
    "#1\n",
    "new_labels_dict_1 = {0:'male_in', 1:'female_in', 2:'chick', 3:'male_bout', 4:'female_bout', 5:'flapping', 6: 'male_grunt', 7:'female_grunt', 8:'unk_grunt', 9:'adult_bout' }\n",
    "new_class_label =  'adult_bout'\n",
    "dataset, new_labels_dict_1= join_labels(['male_bout', 'female_bout'], dataset, labels_dict, new_labels_dict_1, new_class_label)\n",
    "\n",
    "\n",
    "#2\n",
    "new_labels_dict_2 = {0:'male_in', 1:'female_in', 2:'chick', 3:'male_bout', 4:'female_bout', 5:'flapping', 6: 'male_grunt', 7:'female_grunt', 8:'unk_grunt', 9:'adult_bout' , 10: 'adult_grunt'}\n",
    "new_class_label =  'adult_grunt'\n",
    "dataset, new_labels_dict_2= join_labels(['male_grunt', 'female_grunt', 'unk_grunt'], dataset, new_labels_dict_1, new_labels_dict_2, new_class_label)\n",
    "\n"
   ]
  },
  {
   "cell_type": "code",
   "execution_count": 25,
   "metadata": {},
   "outputs": [
    {
     "name": "stdout",
     "output_type": "stream",
     "text": [
      "922\n",
      "(37127, 3)\n",
      "(37127, 3)\n",
      "(38049, 3)\n"
     ]
    }
   ],
   "source": [
    "\n",
    "new_labels_dict_3 = {0:'adult_grunt', 1:'adult_bout', 2:'chick', }\n",
    "\n",
    "\n",
    "examples_2_remove = []\n",
    "neg_classes_indexes = [0,1,5]   # these should be selected automatically, the issue is that because we have overlapping classes, if we remove exemples of female grunt we are removing examples of adult grunt which are the same!\n",
    "# i.e negative classes IS NOt the same as the difference between current labels-dict and new_labels dict!\n",
    "\n",
    "\n",
    "for i, example in enumerate(dataset):\n",
    "    label_matrix = example[2]\n",
    "    if 1 in label_matrix[neg_classes_indexes,:] : \n",
    "#         print(label_matrix[neg_classes_indexes,:])\n",
    "#         print('\\n')\n",
    "        examples_2_remove.append(i)\n",
    "      \n",
    "print(len(examples_2_remove))\n",
    "\n",
    "new_dataset = np.delete(dataset, examples_2_remove, 0)\n",
    "print(np.asarray(new_dataset).shape)\n",
    "new_dataset , test_labels =  remove_label(new_dataset, new_labels_dict_2, new_labels_dict_3 )\n",
    "print(new_dataset.shape)\n",
    "\n",
    "\n",
    "print(dataset.shape)\n",
    "# testing_data = remove_examples_based_labels(dataset, positive_labels, labels_dict, new_labels_dict, mode='keepPosOnly' )"
   ]
  },
  {
   "cell_type": "code",
   "execution_count": 13,
   "metadata": {},
   "outputs": [
    {
     "data": {
      "text/plain": [
       "(2,)"
      ]
     },
     "execution_count": 13,
     "metadata": {},
     "output_type": "execute_result"
    }
   ],
   "source": [
    "np.asarray(new_dataset).shape\n"
   ]
  },
  {
   "cell_type": "code",
   "execution_count": 14,
   "metadata": {},
   "outputs": [
    {
     "name": "stdout",
     "output_type": "stream",
     "text": [
      "(38049, 3)\n"
     ]
    }
   ],
   "source": [
    "print(dataset.shape)"
   ]
  },
  {
   "cell_type": "code",
   "execution_count": null,
   "metadata": {},
   "outputs": [],
   "source": []
  },
  {
   "cell_type": "code",
   "execution_count": null,
   "metadata": {},
   "outputs": [],
   "source": []
  },
  {
   "cell_type": "code",
   "execution_count": null,
   "metadata": {},
   "outputs": [],
   "source": []
  }
 ],
 "metadata": {
  "kernelspec": {
   "display_name": "Python 3",
   "language": "python",
   "name": "python3"
  },
  "language_info": {
   "codemirror_mode": {
    "name": "ipython",
    "version": 3
   },
   "file_extension": ".py",
   "mimetype": "text/x-python",
   "name": "python",
   "nbconvert_exporter": "python",
   "pygments_lexer": "ipython3",
   "version": "3.6.8"
  }
 },
 "nbformat": 4,
 "nbformat_minor": 4
}
