{
 "cells": [
  {
   "cell_type": "code",
   "execution_count": 1,
   "metadata": {},
   "outputs": [],
   "source": [
    "import numpy as np\n",
    "import librosa\n",
    "import os\n",
    "from tqdm.notebook import tqdm\n",
    "import csv\n",
    "import json"
   ]
  },
  {
   "cell_type": "code",
   "execution_count": 2,
   "metadata": {},
   "outputs": [],
   "source": [
    "def PCEN(dataset):\n",
    "    \"\"\"Apply PCEN to spectrograms in dataset.\n",
    "    \n",
    "    # Arguments\n",
    "        dataset: dataset in format (id, spectro, label).\n",
    "    \n",
    "    # Returns\n",
    "        dataset in same format but spectrograms have had PCEN applied.\n",
    "    \"\"\"\n",
    "    x = dataset[:, 1]\n",
    "    for i in range(len(x)):\n",
    "        x[i] = librosa.pcen(x[i] * (2**31))\n",
    "    dataset[:, 1] = x\n",
    "    return dataset"
   ]
  },
  {
   "cell_type": "code",
   "execution_count": 3,
   "metadata": {},
   "outputs": [],
   "source": [
    "# data_processed = '/home/ines/Dropbox/QMUL/PHD/manx_shearwaters/adult_vs_chicks/'\n",
    "data_processed = '/import/c4dm-datasets/manxShearwaters/adult_vs_chick/'\n",
    "# raw_annotations_path ='/home/ines/Dropbox/QMUL/PHD/manx_shearwaters/data/Annotations/'\n",
    "with open('/import/c4dm-datasets/manxShearwaters/adult_vs_chick/labels_key.json', \"r\") as read_file:\n",
    "    labels_dict = json.load(read_file)\n",
    "# labels_dict = {1:'male_in', 2:'female_in', 3:'chick', 4:'male_bout', 5:'female_bout', 6:'flapping', 7: 'male_grunt', 8:'female_grunt', 9:'unk_grunt' }\n",
    "\n"
   ]
  },
  {
   "cell_type": "code",
   "execution_count": 4,
   "metadata": {},
   "outputs": [],
   "source": [
    "# dataset = np.load(data_processed+'dataset_adult_bouts_grunts_chicks.npy', allow_pickle=True)\n",
    "dataset = np.load(data_processed+'dataset_adult_bouts_grunts_chicks_no_negatives.npy', allow_pickle=True)"
   ]
  },
  {
   "cell_type": "code",
   "execution_count": 6,
   "metadata": {},
   "outputs": [
    {
     "data": {
      "text/plain": [
       "(37935, 3)"
      ]
     },
     "execution_count": 6,
     "metadata": {},
     "output_type": "execute_result"
    }
   ],
   "source": [
    "dataset.shape"
   ]
  },
  {
   "cell_type": "markdown",
   "metadata": {},
   "source": [
    "## Remove silences:"
   ]
  },
  {
   "cell_type": "code",
   "execution_count": 10,
   "metadata": {},
   "outputs": [
    {
     "data": {
      "text/plain": [
       "(3385, 3)"
      ]
     },
     "execution_count": 10,
     "metadata": {},
     "output_type": "execute_result"
    }
   ],
   "source": [
    "# remove silences: filter to include only clips calls in\n",
    "dataset_positivesonly = np.asarray([e for e in dataset if 1 in e[2]])\n",
    "dataset_positivesonly.shape"
   ]
  },
  {
   "cell_type": "markdown",
   "metadata": {},
   "source": [
    "##  create train test and val sets completely randomly\":"
   ]
  },
  {
   "cell_type": "code",
   "execution_count": 12,
   "metadata": {},
   "outputs": [],
   "source": [
    "#\n",
    "np.random.shuffle(dataset_positivesonly)\n",
    "indexes = np.arange(0, len(dataset))\n",
    "test_indexes = indexes[:int(len(indexes)*0.05)]\n",
    "val_indexes = indexes[int(len(indexes)*0.05):int(len(indexes)*0.05) + int(len(indexes)*0.2)]\n",
    "train_indexes =  indexes[int(len(indexes)*0.05)+int(len(indexes)*0.2):]\n",
    "train = dataset[train_indexes]\n",
    "test = dataset[test_indexes]\n",
    "val = dataset[val_indexes]"
   ]
  },
  {
   "cell_type": "markdown",
   "metadata": {},
   "source": [
    "## or create train test and val sets by burrow:"
   ]
  },
  {
   "cell_type": "code",
   "execution_count": 20,
   "metadata": {},
   "outputs": [
    {
     "name": "stdout",
     "output_type": "stream",
     "text": [
      "['DB14', '18', '208', '23', '3', '56', '206', '135', '49', '95']\n",
      "['49' '208' '3' 'DB14' '18' '95' '56']\n",
      "['135' '206' '23']\n"
     ]
    }
   ],
   "source": [
    "#1 list burrows\n",
    "# select burrows for each train, val, test (leave one burrow for testing?) 10 burrows: 7train + val 3 test\n",
    "burrows_list = list(set([e[0].split('_')[0] for e in dataset]))\n",
    "print(burrows_list)\n",
    "# train_proportion = len(burrows_list)/2\n",
    "import random\n",
    "train_burrows = np.random.choice(burrows_list, size=7, replace=False )\n",
    "print(train_burrows)\n",
    "test_burrows = np.setdiff1d(burrows_list,train_burrows)\n",
    "print(test_burrows)\n",
    "\n"
   ]
  },
  {
   "cell_type": "code",
   "execution_count": 43,
   "metadata": {},
   "outputs": [],
   "source": [
    "train_val_set=[]\n",
    "for e in dataset:\n",
    "#     print(e[0].split('_')[0])\n",
    "    if any(br == e[0].split('_')[0] for br in train_burrows):\n",
    "#     print(url_string)\n",
    "#     if any(str(train_burrows)) == e[0].split('_')[0]:\n",
    "        train_val_set.append(e)\n",
    "    else:\n",
    "        test_set.sppend(e)\n"
   ]
  },
  {
   "cell_type": "code",
   "execution_count": null,
   "metadata": {},
   "outputs": [],
   "source": [
    "print(train_val_set)"
   ]
  },
  {
   "cell_type": "markdown",
   "metadata": {},
   "source": [
    "## save train, val, test sets\n"
   ]
  },
  {
   "cell_type": "code",
   "execution_count": 13,
   "metadata": {},
   "outputs": [],
   "source": [
    "np.save(data_processed+'test.npy', test)\n",
    "np.save(data_processed+'val.npy', val)\n",
    "np.save(data_processed+'train.npy', train)"
   ]
  },
  {
   "cell_type": "code",
   "execution_count": 16,
   "metadata": {},
   "outputs": [
    {
     "name": "stdout",
     "output_type": "stream",
     "text": [
      "(1902, 3)\n",
      "(7609, 3)\n",
      "(28538, 3)\n"
     ]
    }
   ],
   "source": [
    "print(test.shape)\n",
    "print(val.shape)\n",
    "print(train.shape)"
   ]
  },
  {
   "cell_type": "code",
   "execution_count": 14,
   "metadata": {},
   "outputs": [],
   "source": [
    "# apply PCEN\n",
    "test_PCEN = PCEN(test)\n",
    "val_PCEN = PCEN(val)\n",
    "train_PCEN = PCEN(train)"
   ]
  },
  {
   "cell_type": "code",
   "execution_count": 15,
   "metadata": {},
   "outputs": [],
   "source": [
    "# save PCEN train, val, test sets\n",
    "np.save(data_processed+'test_PCEN', test_PCEN)\n",
    "np.save(data_processed+'val_PCEN', val_PCEN)\n",
    "np.save(data_processed+'train_PCEN', train_PCEN)"
   ]
  },
  {
   "cell_type": "code",
   "execution_count": null,
   "metadata": {},
   "outputs": [],
   "source": []
  }
 ],
 "metadata": {
  "kernelspec": {
   "display_name": "Python 3",
   "language": "python",
   "name": "python3"
  },
  "language_info": {
   "codemirror_mode": {
    "name": "ipython",
    "version": 3
   },
   "file_extension": ".py",
   "mimetype": "text/x-python",
   "name": "python",
   "nbconvert_exporter": "python",
   "pygments_lexer": "ipython3",
   "version": "3.6.8"
  }
 },
 "nbformat": 4,
 "nbformat_minor": 2
}
